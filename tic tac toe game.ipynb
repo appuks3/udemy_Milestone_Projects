{
 "cells": [
  {
   "cell_type": "code",
   "execution_count": 1,
   "id": "c6cb089f",
   "metadata": {},
   "outputs": [],
   "source": [
    "from IPython.display import clear_output\n",
    "\n",
    "def display_board(board):\n",
    "    clear_output()\n",
    "    print(\"  |  |  \")\n",
    "    print(board[1]+\" |\"+board[2]+\" |\"+board[3])\n",
    "\n",
    "    print(\"__|__|__\")\n",
    "    print(board[4]+\" |\"+board[5]+\" |\"+board[6])\n",
    "    print(\"__|__|__\")\n",
    "    print(\"  |  |  \")\n",
    "    print(board[7]+\" |\"+board[8]+\" |\"+board[9])\n",
    "    print(\"  |  |  \")"
   ]
  },
  {
   "cell_type": "code",
   "execution_count": 2,
   "id": "61262b1f",
   "metadata": {},
   "outputs": [
    {
     "name": "stdout",
     "output_type": "stream",
     "text": [
      "  |  |  \n",
      "  |  | \n",
      "__|__|__\n",
      "  |  | \n",
      "__|__|__\n",
      "  |  |  \n",
      "  |  | \n",
      "  |  |  \n"
     ]
    }
   ],
   "source": [
    "test_board=[' ']*10\n",
    "display_board(test_board)"
   ]
  },
  {
   "cell_type": "code",
   "execution_count": 3,
   "id": "8fc8c98a",
   "metadata": {},
   "outputs": [],
   "source": [
    "def player_input():\n",
    "    marker=''\n",
    "    while marker not in ['x',\"X\",\"Y\",\"y\"]:\n",
    "        marker=input(\"Player1 choose x or o: \").upper()\n",
    "        player1=marker\n",
    "    if marker =='X':\n",
    "        player2='O'\n",
    "    else:\n",
    "        player2=\"X\"\n",
    "    return (player1,player2)"
   ]
  },
  {
   "cell_type": "code",
   "execution_count": 4,
   "id": "8ce5c4f0",
   "metadata": {},
   "outputs": [
    {
     "data": {
      "text/plain": [
       "('X', 'O')"
      ]
     },
     "execution_count": 4,
     "metadata": {},
     "output_type": "execute_result"
    }
   ],
   "source": [
    "player_input()"
   ]
  },
  {
   "cell_type": "code",
   "execution_count": null,
   "id": "21481fbd",
   "metadata": {},
   "outputs": [],
   "source": [
    "\n",
    "    "
   ]
  },
  {
   "cell_type": "code",
   "execution_count": 5,
   "id": "a3d960a6",
   "metadata": {},
   "outputs": [],
   "source": [
    "def place_marker(board,mark,position):\n",
    "    board[position]=mark"
   ]
  },
  {
   "cell_type": "code",
   "execution_count": 6,
   "id": "844e19aa",
   "metadata": {},
   "outputs": [
    {
     "name": "stdout",
     "output_type": "stream",
     "text": [
      "  |  |  \n",
      "  |  | \n",
      "__|__|__\n",
      "  |  | \n",
      "__|__|__\n",
      "  |  |  \n",
      "  |& | \n",
      "  |  |  \n"
     ]
    }
   ],
   "source": [
    "place_marker(test_board,'&',8)\n",
    "display_board(test_board)"
   ]
  },
  {
   "cell_type": "code",
   "execution_count": 7,
   "id": "7b1d5779",
   "metadata": {},
   "outputs": [],
   "source": [
    "def win_check(board,mark):\n",
    "    return((board[7] == mark and board[8] == mark and board[9] == mark) or # across the top\n",
    "    (board[4] == mark and board[5] == mark and board[6] == mark) or # across the middle\n",
    "    (board[1] == mark and board[2] == mark and board[3] == mark) or # across the bottom\n",
    "    (board[7] == mark and board[4] == mark and board[1] == mark) or # down the middle\n",
    "    (board[8] == mark and board[5] == mark and board[2] == mark) or # down the middle\n",
    "    (board[9] == mark and board[6] == mark and board[3] == mark) or # down the right side\n",
    "    (board[7] == mark and board[5] == mark and board[3] == mark) or # diagonal\n",
    "    (board[9] == mark and board[5] == mark and board[1] == mark)) # diagonal"
   ]
  },
  {
   "cell_type": "code",
   "execution_count": 8,
   "id": "a883ed1c",
   "metadata": {},
   "outputs": [
    {
     "data": {
      "text/plain": [
       "False"
      ]
     },
     "execution_count": 8,
     "metadata": {},
     "output_type": "execute_result"
    }
   ],
   "source": [
    "win_check(test_board,\"X\")"
   ]
  },
  {
   "cell_type": "code",
   "execution_count": 9,
   "id": "1aea7360",
   "metadata": {},
   "outputs": [],
   "source": [
    "import random \n",
    "def choose_first():\n",
    "    play=random.randint(0,1)\n",
    "    if play==0:\n",
    "        return 'player 1'\n",
    "    else:\n",
    "        return 'player 2'\n",
    "    \n",
    "    "
   ]
  },
  {
   "cell_type": "code",
   "execution_count": 10,
   "id": "560fd7bb",
   "metadata": {},
   "outputs": [],
   "source": [
    "def space_check(board,position):\n",
    "    return board[position]==' '\n",
    "    "
   ]
  },
  {
   "cell_type": "code",
   "execution_count": 11,
   "id": "fdb63295",
   "metadata": {},
   "outputs": [],
   "source": [
    "def full_board_check(board):\n",
    "    for i in range(1,10):\n",
    "        if board[i]==' ':\n",
    "            return False\n",
    "    else:\n",
    "        return True"
   ]
  },
  {
   "cell_type": "code",
   "execution_count": 12,
   "id": "34a7b0c3",
   "metadata": {},
   "outputs": [],
   "source": [
    "def player_choice(board):\n",
    "    position=0\n",
    "    while position not in [1,2,3,4,5,6,7,8,9] or not space_check(board,position):\n",
    "        position=int(input(\"Enter a value between 1 to 9 : \"))\n",
    "    return position"
   ]
  },
  {
   "cell_type": "code",
   "execution_count": 13,
   "id": "da324c1f",
   "metadata": {},
   "outputs": [],
   "source": [
    "def replay():\n",
    "    choice=input(\"play again? yes or no\")\n",
    "    return choice=='yes'"
   ]
  },
  {
   "cell_type": "code",
   "execution_count": 14,
   "id": "4aca0ac5",
   "metadata": {},
   "outputs": [
    {
     "name": "stdout",
     "output_type": "stream",
     "text": [
      "  |  |  \n",
      "X |  |O\n",
      "__|__|__\n",
      "O |O |X\n",
      "__|__|__\n",
      "  |  |  \n",
      "O |  |X\n",
      "  |  |  \n",
      "Congartulation Player 2 has won\n"
     ]
    }
   ],
   "source": [
    "print(\"Welcome to Tic-Tac-Toe Game\")\n",
    "\n",
    "while True:\n",
    "    \n",
    "    \n",
    "    the_board=[' ']*10\n",
    "    player1_mark,player2_mark=player_input()\n",
    "    print(player1_mark,player2_mark)\n",
    "    turn=choose_first()\n",
    "    print(turn + \"will go first\")\n",
    "    \n",
    "    play_game=input(\"Ready to play y or n\")\n",
    "    if play_game=='y':\n",
    "        game_on=True\n",
    "    else:\n",
    "        game_on = False\n",
    "        \n",
    "        \n",
    "        \n",
    "    while game_on:\n",
    "        \n",
    "        if turn=='player 1':\n",
    "            \n",
    "            display_board(the_board)\n",
    "            \n",
    "            position = player_choice(the_board)\n",
    "            \n",
    "            place_marker(the_board,player1_mark,position)\n",
    "            \n",
    "            \n",
    "            if win_check(the_board,player1_mark):\n",
    "                display_board(the_board)\n",
    "                print('Congartulation Player 1 has won')\n",
    "                game_on = False\n",
    "                \n",
    "            else:\n",
    "                if full_board_check(the_board):\n",
    "                    display_board(the_board)\n",
    "                    print(\" The game is a tie\")\n",
    "                    break\n",
    "                else:\n",
    "                    turn = ' player 2'\n",
    "        else:\n",
    "            display_board(the_board)\n",
    "            \n",
    "            position = player_choice(the_board)\n",
    "            \n",
    "            place_marker(the_board,player2_mark,position)\n",
    "            \n",
    "            \n",
    "            if win_check(the_board,player2_mark):\n",
    "                display_board(the_board)\n",
    "                print('Congartulation Player 2 has won')\n",
    "                game_on = False\n",
    "                \n",
    "            else:\n",
    "                if full_board_check(the_board):\n",
    "                    display_board(the_board)\n",
    "                    print(\" The game is a tie\")\n",
    "                    break\n",
    "                else:\n",
    "                    turn = 'player 1'\n",
    "            \n",
    "    \n",
    "    \n",
    "    \n",
    "    \n",
    "    \n",
    "    \n",
    "    \n",
    "    \n",
    "    \n",
    "    \n",
    "    \n",
    "    if not replay():\n",
    "        break\n"
   ]
  },
  {
   "cell_type": "code",
   "execution_count": null,
   "id": "1e439c24",
   "metadata": {},
   "outputs": [],
   "source": []
  }
 ],
 "metadata": {
  "kernelspec": {
   "display_name": "Python 3 (ipykernel)",
   "language": "python",
   "name": "python3"
  },
  "language_info": {
   "codemirror_mode": {
    "name": "ipython",
    "version": 3
   },
   "file_extension": ".py",
   "mimetype": "text/x-python",
   "name": "python",
   "nbconvert_exporter": "python",
   "pygments_lexer": "ipython3",
   "version": "3.9.13"
  }
 },
 "nbformat": 4,
 "nbformat_minor": 5
}
